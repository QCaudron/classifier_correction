{
 "cells": [
  {
   "cell_type": "markdown",
   "id": "2bd2bc00-6e2f-4b8b-b615-d5ca4f536fe1",
   "metadata": {},
   "source": [
    "# A correction to probabilistic classifiers with prior distributions\n",
    "\n",
    "This is a quick hack to see whether correcting the predicted class probabilities in a classifier, by a factor found from the original prior data distribution and the expected distribution resulting from the classifier, could help with the \"minority class is underpredicted\" problem.\n",
    "\n",
    "This notebook is based on [this repo](https://github.com/atorch/areal_estimates_example) by Adrian Torchiana."
   ]
  },
  {
   "cell_type": "code",
   "execution_count": 1,
   "id": "b9e03164-2538-4aeb-95f2-73c9e59820b2",
   "metadata": {},
   "outputs": [],
   "source": [
    "import matplotlib.pyplot as plt\n",
    "import numpy as np\n",
    "import pandas as pd\n",
    "from sklearn.datasets import make_blobs, make_classification\n",
    "from sklearn.linear_model import LogisticRegression\n",
    "from sklearn.model_selection import train_test_split\n",
    "from sklearn.metrics import accuracy_score, classification_report"
   ]
  },
  {
   "cell_type": "code",
   "execution_count": 2,
   "id": "0749672e-14c1-4b7a-98b1-9dce526a9f5f",
   "metadata": {},
   "outputs": [],
   "source": [
    "random_state = 1"
   ]
  },
  {
   "cell_type": "markdown",
   "id": "7e951f5a-73fe-451c-afb2-06af04d2796d",
   "metadata": {},
   "source": [
    "### A dataset with some class imbalance\n",
    "\n",
    "Consider these the fraction of pixels that are forest, pasture, and weeds"
   ]
  },
  {
   "cell_type": "code",
   "execution_count": 3,
   "id": "914de0ff-5ea7-4d94-be14-976ce02bcb70",
   "metadata": {},
   "outputs": [],
   "source": [
    "true_share = [0.65, 0.3, 0.05]"
   ]
  },
  {
   "cell_type": "markdown",
   "id": "ac5e2cf0-6c6a-49f4-a9fd-4f1916e9cefc",
   "metadata": {},
   "source": [
    "### Let's make a simple classification dataset with these class proportions"
   ]
  },
  {
   "cell_type": "code",
   "execution_count": 4,
   "id": "5ecde6ee-fea3-4b59-9a2f-b062a4494892",
   "metadata": {},
   "outputs": [
    {
     "data": {
      "text/plain": [
       "<matplotlib.collections.PathCollection at 0x7fa1b0192760>"
      ]
     },
     "execution_count": 4,
     "metadata": {},
     "output_type": "execute_result"
    },
    {
     "data": {
      "image/png": "[encoded data removed]",
      "text/plain": [
       "<Figure size 432x288 with 1 Axes>"
      ]
     },
     "metadata": {
      "needs_background": "light"
     },
     "output_type": "display_data"
    }
   ],
   "source": [
    "X, y = make_classification(\n",
    "    n_samples=2_000,\n",
    "    n_classes=3,\n",
    "    n_features=2,\n",
    "    n_informative=2,\n",
    "    n_redundant=0,\n",
    "    n_repeated=0,\n",
    "    n_clusters_per_class=1,\n",
    "    weights=true_share,\n",
    "    random_state=random_state,\n",
    ")\n",
    "\n",
    "plt.scatter(X[:, 0], X[:, 1], c=y)"
   ]
  },
  {
   "cell_type": "code",
   "execution_count": 5,
   "id": "40ac13a5-013f-4676-b541-bd9a13544507",
   "metadata": {},
   "outputs": [],
   "source": [
    "# This is an alternative dataset\n",
    "\n",
    "# # Generate some random X\n",
    "# rng = np.random.default_rng(seed=random_state)\n",
    "# X = np.concatenate([\n",
    "#     rng.standard_normal(size=(2_000, 1)),\n",
    "#     rng.uniform(size=(2_000, 1)),\n",
    "# ], axis=1)\n",
    "\n",
    "# # Generate a non-linear combination of features to classify over\n",
    "# h = 0.1 * X[:, 0] ** 5 + X[:, 1] + X[:, 0] * X[:, 1] ** 8\n",
    "\n",
    "# p65 = np.percentile(h, 65)\n",
    "# p95 = np.percentile(h, 95)\n",
    "\n",
    "# def label(indicator):\n",
    "#     if indicator < p65:\n",
    "#         return 0\n",
    "#     elif indicator < p95:\n",
    "#         return 1\n",
    "#     return 2\n",
    "\n",
    "# y = [label(i) for i in h]\n",
    "\n",
    "# plt.scatter(X[:, 0], X[:, 1], c=y)"
   ]
  },
  {
   "cell_type": "code",
   "execution_count": 6,
   "id": "89de11f0-ef21-4570-a389-d9e76e804400",
   "metadata": {},
   "outputs": [
    {
     "data": {
      "text/html": [
       "<div>\n",
       "<style scoped>\n",
       "    .dataframe tbody tr th:only-of-type {\n",
       "        vertical-align: middle;\n",
       "    }\n",
       "\n",
       "    .dataframe tbody tr th {\n",
       "        vertical-align: top;\n",
       "    }\n",
       "\n",
       "    .dataframe thead th {\n",
       "        text-align: right;\n",
       "    }\n",
       "</style>\n",
       "<table border=\"1\" class=\"dataframe\">\n",
       "  <thead>\n",
       "    <tr style=\"text-align: right;\">\n",
       "      <th></th>\n",
       "      <th>Counts</th>\n",
       "      <th>Fraction</th>\n",
       "    </tr>\n",
       "  </thead>\n",
       "  <tbody>\n",
       "    <tr>\n",
       "      <th>0</th>\n",
       "      <td>1297</td>\n",
       "      <td>0.6485</td>\n",
       "    </tr>\n",
       "    <tr>\n",
       "      <th>1</th>\n",
       "      <td>602</td>\n",
       "      <td>0.3010</td>\n",
       "    </tr>\n",
       "    <tr>\n",
       "      <th>2</th>\n",
       "      <td>101</td>\n",
       "      <td>0.0505</td>\n",
       "    </tr>\n",
       "  </tbody>\n",
       "</table>\n",
       "</div>"
      ],
      "text/plain": [
       "   Counts  Fraction\n",
       "0    1297    0.6485\n",
       "1     602    0.3010\n",
       "2     101    0.0505"
      ]
     },
     "execution_count": 6,
     "metadata": {},
     "output_type": "execute_result"
    }
   ],
   "source": [
    "counts = pd.Series(y).value_counts().rename(\"Counts\").to_frame()\n",
    "counts[\"Fraction\"] = counts[\"Counts\"] / len(y)\n",
    "counts"
   ]
  },
  {
   "cell_type": "markdown",
   "id": "33989632-afeb-4e52-becf-98785f150d12",
   "metadata": {},
   "source": [
    "### We'll train a simple logistic regressor on this dataset\n",
    "\n",
    "We're splitting the data down the middle for train and test sets."
   ]
  },
  {
   "cell_type": "code",
   "execution_count": 7,
   "id": "3b6f8f56-957f-426c-b6e3-42356ef32c63",
   "metadata": {},
   "outputs": [
    {
     "name": "stdout",
     "output_type": "stream",
     "text": [
      "Logistic regressor's accuracy : 0.944\n"
     ]
    }
   ],
   "source": [
    "X_train, X_test, y_train, y_test = train_test_split(X, y, test_size=0.5, random_state=random_state)\n",
    "\n",
    "lr = LogisticRegression(multi_class=\"ovr\", penalty=\"none\", random_state=random_state)\n",
    "lr.fit(X_train, y_train)\n",
    "\n",
    "print(f\"Logistic regressor's accuracy : {accuracy_score(y_test, lr.predict(X_test))}\")\n",
    "\n",
    "# As an aside... some of these models never predict the minor class\n",
    "# and that causes issues down the line, so shout about it if so\n",
    "assert 2 in lr.predict(X_test)"
   ]
  },
  {
   "cell_type": "markdown",
   "id": "d2c6dec6-b8e3-4c45-9896-d06d44e15b70",
   "metadata": {},
   "source": [
    "### Let's calculate our \"recall matrix\"\n",
    "\n",
    "The (i, j)th entry is the probability that the classifier predicted class $j$, given the datapoint actually belonged to class $i$. That is, \n",
    "\n",
    "$$\n",
    "\\mathrm{Recall}_{(i, j)} := Pr\\left[ \\hat{y} = j \\,|\\, y = i \\right].\n",
    "$$"
   ]
  },
  {
   "cell_type": "code",
   "execution_count": 8,
   "id": "144d6763-445b-4352-9a03-0a1099573362",
   "metadata": {},
   "outputs": [],
   "source": [
    "def recall_matrix(X_test, y_test, y_hat):\n",
    "    \n",
    "    # Empty matrix\n",
    "    recall = np.zeros((len(true_share), len(true_share)))\n",
    "    \n",
    "    # Iterate over each predicted value, comparing to its true (observed) value\n",
    "    for predicted, actual in zip(y_test, y_hat):\n",
    "        recall[predicted, actual] += 1\n",
    "        \n",
    "    # Normalise on the way out\n",
    "    return recall / recall.sum(1).reshape(-1, 1)"
   ]
  },
  {
   "cell_type": "code",
   "execution_count": 9,
   "id": "7c59c47e-8cdf-44b7-9f8a-3964a5948c97",
   "metadata": {},
   "outputs": [
    {
     "name": "stdout",
     "output_type": "stream",
     "text": [
      "Our recall matrix :\n",
      "\n",
      "[[0.997 0.002 0.002]\n",
      " [0.016 0.957 0.026]\n",
      " [0.157 0.647 0.196]]\n"
     ]
    }
   ],
   "source": [
    "recall = recall_matrix(X_test, y_test, lr.predict(X_test))\n",
    "print(f\"Our recall matrix :\\n\\n{recall.round(3)}\")"
   ]
  },
  {
   "cell_type": "markdown",
   "id": "ac0e6b41-b69f-4477-b27c-c831499ed8af",
   "metadata": {},
   "source": [
    "### Let's look closer.\n",
    "\n",
    "The diagonals of this matrix should be the classifier's recall for each class.\n",
    "\n",
    "We can verify that all looks good by comparing with what scikit-learn tells us, too."
   ]
  },
  {
   "cell_type": "code",
   "execution_count": 10,
   "id": "4b9d0514-d156-43d2-aa24-a13c999b3792",
   "metadata": {},
   "outputs": [
    {
     "name": "stdout",
     "output_type": "stream",
     "text": [
      "              precision    recall  f1-score   support\n",
      "\n",
      "           0       0.98      1.00      0.99       644\n",
      "           1       0.90      0.96      0.93       305\n",
      "           2       0.53      0.20      0.29        51\n",
      "\n",
      "    accuracy                           0.94      1000\n",
      "   macro avg       0.80      0.72      0.73      1000\n",
      "weighted avg       0.93      0.94      0.93      1000\n",
      "\n"
     ]
    }
   ],
   "source": [
    "print(classification_report(y_test, lr.predict(X_test)))"
   ]
  },
  {
   "cell_type": "code",
   "execution_count": 11,
   "id": "06a43a1a-3a2b-4a6b-a7e2-9614d495acc1",
   "metadata": {},
   "outputs": [
    {
     "name": "stdout",
     "output_type": "stream",
     "text": [
      "Recall by our calc : [0.997 0.957 0.196]\n",
      "Recall per sklearn : [0.997 0.957 0.196]\n"
     ]
    }
   ],
   "source": [
    "# Pull the recall numbers from sklearn's classification_report\n",
    "classes = [str(i) for i in set(y_test)]\n",
    "class_report = classification_report(y_test, lr.predict(X_test), output_dict=True)\n",
    "sklearn_recall = [class_report[class_][\"recall\"] for class_ in classes]\n",
    "\n",
    "print(f\"Recall by our calc : {np.diag(recall).round(3)}\")\n",
    "print(f\"Recall per sklearn : {np.round(sklearn_recall, 3)}\")"
   ]
  },
  {
   "cell_type": "markdown",
   "id": "489ac6ab-1512-4b64-8c76-41e238022e07",
   "metadata": {},
   "source": [
    "### The off-diagonals are useful too.\n",
    "\n",
    "They tell us about what is being misclassified and where those datapoints are coming from, in terms of their true (observed) classes.\n",
    "\n",
    "The columns represent all predictions for the observed data. Let's look at the matrix again."
   ]
  },
  {
   "cell_type": "code",
   "execution_count": 12,
   "id": "1ed78087-8d00-4f67-8427-92d02df612a4",
   "metadata": {},
   "outputs": [
    {
     "data": {
      "text/plain": [
       "array([[0.99689441, 0.0015528 , 0.0015528 ],\n",
       "       [0.01639344, 0.95737705, 0.02622951],\n",
       "       [0.15686275, 0.64705882, 0.19607843]])"
      ]
     },
     "execution_count": 12,
     "metadata": {},
     "output_type": "execute_result"
    }
   ],
   "source": [
    "recall"
   ]
  },
  {
   "cell_type": "code",
   "execution_count": 13,
   "id": "f3c49074-7f4b-44a8-953a-8984d0341730",
   "metadata": {},
   "outputs": [
    {
     "name": "stdout",
     "output_type": "stream",
     "text": [
      "99.7% of true class-0 will be predicted as class-0.\n",
      "1.6% of true class-1 will be predicted as class-0.\n",
      "15.7% of true class-2 will be predicted as class-0.\n"
     ]
    }
   ],
   "source": [
    "for i in range(len(true_share)):\n",
    "    print(f\"{recall[i, 0] * 100:.1f}% of true class-{i} will be predicted as class-0.\")"
   ]
  },
  {
   "cell_type": "markdown",
   "id": "c0658eb0-2be2-4591-bd6c-08598fe5a4ba",
   "metadata": {},
   "source": [
    "### We can use this information to determine what class distribution we'll get out of the model.\n",
    "\n",
    "Simply doing the same as in the last cell, as a matrix operation :"
   ]
  },
  {
   "cell_type": "code",
   "execution_count": 14,
   "id": "cecc90c1-2933-4dee-aa34-97aceab32a58",
   "metadata": {},
   "outputs": [
    {
     "name": "stdout",
     "output_type": "stream",
     "text": [
      "Predicted class distribution : [0.66074254 0.32057537 0.01868209]\n"
     ]
    }
   ],
   "source": [
    "predicted_share = true_share @ recall\n",
    "print(f\"Predicted class distribution : {predicted_share}\")"
   ]
  },
  {
   "cell_type": "code",
   "execution_count": 15,
   "id": "f0e27cd6-16e7-4939-a8b4-02205dbbace6",
   "metadata": {},
   "outputs": [],
   "source": [
    "predicted_counts = pd.Series(lr.predict(X_test)).value_counts()\n",
    "original_counts = counts[\"Fraction\"]"
   ]
  },
  {
   "cell_type": "code",
   "execution_count": 16,
   "id": "6e204d5c-7ae2-46c7-9be2-00c1840ab8b0",
   "metadata": {},
   "outputs": [
    {
     "data": {
      "text/html": [
       "<div>\n",
       "<style scoped>\n",
       "    .dataframe tbody tr th:only-of-type {\n",
       "        vertical-align: middle;\n",
       "    }\n",
       "\n",
       "    .dataframe tbody tr th {\n",
       "        vertical-align: top;\n",
       "    }\n",
       "\n",
       "    .dataframe thead th {\n",
       "        text-align: right;\n",
       "    }\n",
       "</style>\n",
       "<table border=\"1\" class=\"dataframe\">\n",
       "  <thead>\n",
       "    <tr style=\"text-align: right;\">\n",
       "      <th></th>\n",
       "      <th>Original</th>\n",
       "      <th>Predicted</th>\n",
       "    </tr>\n",
       "  </thead>\n",
       "  <tbody>\n",
       "    <tr>\n",
       "      <th>0</th>\n",
       "      <td>0.6485</td>\n",
       "      <td>0.655</td>\n",
       "    </tr>\n",
       "    <tr>\n",
       "      <th>1</th>\n",
       "      <td>0.3010</td>\n",
       "      <td>0.326</td>\n",
       "    </tr>\n",
       "    <tr>\n",
       "      <th>2</th>\n",
       "      <td>0.0505</td>\n",
       "      <td>0.019</td>\n",
       "    </tr>\n",
       "  </tbody>\n",
       "</table>\n",
       "</div>"
      ],
      "text/plain": [
       "   Original  Predicted\n",
       "0    0.6485      0.655\n",
       "1    0.3010      0.326\n",
       "2    0.0505      0.019"
      ]
     },
     "execution_count": 16,
     "metadata": {},
     "output_type": "execute_result"
    }
   ],
   "source": [
    "# Let's confirm\n",
    "predicted_counts = pd.Series(lr.predict(X_test)).value_counts()\n",
    "predicted_counts = predicted_counts.rename(\"Predicted\").to_frame() / len(X_test)\n",
    "original_counts = counts[\"Fraction\"].rename(\"Original\")\n",
    "predicted_vs_original = pd.concat([original_counts, predicted_counts], axis=1)\n",
    "predicted_vs_original"
   ]
  },
  {
   "cell_type": "markdown",
   "id": "4ce4b071-a1c7-421b-b0f0-b73c3f3e7212",
   "metadata": {},
   "source": [
    "### Can we use this to \"correct\" our classifier ?\n",
    "\n",
    "Knowing that it significantly underpredicts our minority class, can we change the decision function of this classifier to take these into account ?"
   ]
  },
  {
   "cell_type": "code",
   "execution_count": 17,
   "id": "1fbba18a-4f43-43e2-bb38-edaec0c3f32d",
   "metadata": {},
   "outputs": [
    {
     "data": {
      "text/plain": [
       "array([[9.54413954e-01, 3.61101780e-02, 9.47586779e-03],\n",
       "       [9.65422391e-01, 3.37825253e-02, 7.95083391e-04],\n",
       "       [9.71454728e-01, 2.75012376e-02, 1.04403400e-03],\n",
       "       ...,\n",
       "       [9.69817614e-01, 2.88835378e-02, 1.29884817e-03],\n",
       "       [4.86544610e-01, 4.89116568e-01, 2.43388223e-02],\n",
       "       [9.78729615e-01, 2.12292063e-02, 4.11786828e-05]])"
      ]
     },
     "execution_count": 17,
     "metadata": {},
     "output_type": "execute_result"
    }
   ],
   "source": [
    "# We are using a One-vs-Rest classifier; it should give us the probability\n",
    "# of a datapoint belonging to some class, rather than any other class\n",
    "lr.predict_proba(X_test)"
   ]
  },
  {
   "cell_type": "code",
   "execution_count": 18,
   "id": "943d4a20-17c4-43e2-87a4-3ed9ab4aec63",
   "metadata": {},
   "outputs": [
    {
     "data": {
      "text/plain": [
       "True"
      ]
     },
     "execution_count": 18,
     "metadata": {},
     "output_type": "execute_result"
    }
   ],
   "source": [
    "# Let's make sure we're simply assigning class labels according to the largest probability\n",
    "def class_labels_from_probas(probas):\n",
    "    return np.argmax(probas, axis=1)\n",
    "\n",
    "(lr.predict(X_test) == class_labels_from_probas(lr.predict_proba(X_test))).all()"
   ]
  },
  {
   "cell_type": "code",
   "execution_count": 19,
   "id": "b36880dc-cc09-4674-9549-8c939cf4ad43",
   "metadata": {},
   "outputs": [
    {
     "data": {
      "text/plain": [
       "array([0.99007634, 0.92331288, 2.65789474])"
      ]
     },
     "execution_count": 19,
     "metadata": {},
     "output_type": "execute_result"
    }
   ],
   "source": [
    "# Let's calculate a scaling factor to \"correct\" for distributional shift\n",
    "scaling = predicted_vs_original[\"Original\"] / predicted_vs_original[\"Predicted\"]\n",
    "scaling = scaling.to_numpy()\n",
    "scaling"
   ]
  },
  {
   "cell_type": "code",
   "execution_count": 20,
   "id": "a8f3c8f3-3149-435b-a878-d8c1c6d6a312",
   "metadata": {},
   "outputs": [],
   "source": [
    "# Let's generate new class labels from our probabilities\n",
    "predicted_probas = lr.predict_proba(X_test) * scaling\n",
    "new_class_labels = class_labels_from_probas(predicted_probas)"
   ]
  },
  {
   "cell_type": "code",
   "execution_count": 21,
   "id": "99ca0540-b3fb-4ab1-a2d5-8309d33dd87f",
   "metadata": {},
   "outputs": [
    {
     "name": "stdout",
     "output_type": "stream",
     "text": [
      "AFTER CORRECTION\n",
      "              precision    recall  f1-score   support\n",
      "\n",
      "           0       0.98      0.99      0.99       644\n",
      "           1       0.95      0.90      0.92       305\n",
      "           2       0.47      0.59      0.52        51\n",
      "\n",
      "    accuracy                           0.94      1000\n",
      "   macro avg       0.80      0.82      0.81      1000\n",
      "weighted avg       0.95      0.94      0.94      1000\n",
      "\n"
     ]
    }
   ],
   "source": [
    "# How did we do ?\n",
    "print(\"AFTER CORRECTION\")\n",
    "print(classification_report(y_test, new_class_labels))"
   ]
  },
  {
   "cell_type": "code",
   "execution_count": 22,
   "id": "3643dd18-93ca-4b46-84af-14f47b0f5bb9",
   "metadata": {},
   "outputs": [
    {
     "name": "stdout",
     "output_type": "stream",
     "text": [
      "BEFORE CORRECTION\n",
      "              precision    recall  f1-score   support\n",
      "\n",
      "           0       0.98      1.00      0.99       644\n",
      "           1       0.90      0.96      0.93       305\n",
      "           2       0.53      0.20      0.29        51\n",
      "\n",
      "    accuracy                           0.94      1000\n",
      "   macro avg       0.80      0.72      0.73      1000\n",
      "weighted avg       0.93      0.94      0.93      1000\n",
      "\n"
     ]
    }
   ],
   "source": [
    "# Our old metrics :\n",
    "print(\"BEFORE CORRECTION\")\n",
    "print(classification_report(y_test, lr.predict(X_test)))"
   ]
  },
  {
   "cell_type": "code",
   "execution_count": 23,
   "id": "2a93b2d6-f771-4913-822d-21be9ed04d81",
   "metadata": {},
   "outputs": [
    {
     "data": {
      "text/html": [
       "<div>\n",
       "<style scoped>\n",
       "    .dataframe tbody tr th:only-of-type {\n",
       "        vertical-align: middle;\n",
       "    }\n",
       "\n",
       "    .dataframe tbody tr th {\n",
       "        vertical-align: top;\n",
       "    }\n",
       "\n",
       "    .dataframe thead th {\n",
       "        text-align: right;\n",
       "    }\n",
       "</style>\n",
       "<table border=\"1\" class=\"dataframe\">\n",
       "  <thead>\n",
       "    <tr style=\"text-align: right;\">\n",
       "      <th></th>\n",
       "      <th>Original</th>\n",
       "      <th>Predicted</th>\n",
       "      <th>Corrected</th>\n",
       "    </tr>\n",
       "  </thead>\n",
       "  <tbody>\n",
       "    <tr>\n",
       "      <th>0</th>\n",
       "      <td>0.6485</td>\n",
       "      <td>0.655</td>\n",
       "      <td>0.650</td>\n",
       "    </tr>\n",
       "    <tr>\n",
       "      <th>1</th>\n",
       "      <td>0.3010</td>\n",
       "      <td>0.326</td>\n",
       "      <td>0.286</td>\n",
       "    </tr>\n",
       "    <tr>\n",
       "      <th>2</th>\n",
       "      <td>0.0505</td>\n",
       "      <td>0.019</td>\n",
       "      <td>0.064</td>\n",
       "    </tr>\n",
       "  </tbody>\n",
       "</table>\n",
       "</div>"
      ],
      "text/plain": [
       "   Original  Predicted  Corrected\n",
       "0    0.6485      0.655      0.650\n",
       "1    0.3010      0.326      0.286\n",
       "2    0.0505      0.019      0.064"
      ]
     },
     "execution_count": 23,
     "metadata": {},
     "output_type": "execute_result"
    }
   ],
   "source": [
    "predicted_vs_original[\"Corrected\"] = pd.Series(new_class_labels).value_counts() / len(y_test)\n",
    "predicted_vs_original"
   ]
  },
  {
   "cell_type": "code",
   "execution_count": null,
   "id": "12cdcaf3-bcdc-489a-81fd-19530091e278",
   "metadata": {},
   "outputs": [],
   "source": []
  }
 ],
 "metadata": {
  "kernelspec": {
   "display_name": "Python 3",
   "language": "python",
   "name": "python3"
  },
  "language_info": {
   "codemirror_mode": {
    "name": "ipython",
    "version": 3
   },
   "file_extension": ".py",
   "mimetype": "text/x-python",
   "name": "python",
   "nbconvert_exporter": "python",
   "pygments_lexer": "ipython3",
   "version": "3.8.8"
  }
 },
 "nbformat": 4,
 "nbformat_minor": 5
}
